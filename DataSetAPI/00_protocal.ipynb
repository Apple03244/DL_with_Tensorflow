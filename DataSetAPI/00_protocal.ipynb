{
 "cells": [
  {
   "cell_type": "markdown",
   "metadata": {},
   "source": [
    "# 프로토콜 버퍼\n",
    "\n",
    "다운방법 및 설명 : https://github.com/protocolbuffers/protobuf/tree/main/python\n",
    "\n",
    "mac os 설치 참고 : https://kkastory.tistory.com/32"
   ]
  },
  {
   "cell_type": "code",
   "execution_count": 1,
   "metadata": {},
   "outputs": [
    {
     "name": "stdout",
     "output_type": "stream",
     "text": [
      "Requirement already satisfied: protobuf in /Library/Frameworks/Python.framework/Versions/3.11/lib/python3.11/site-packages (5.26.0)\n"
     ]
    }
   ],
   "source": [
    "!pip3 install protobuf"
   ]
  },
  {
   "cell_type": "markdown",
   "metadata": {},
   "source": [
    "프로토콜 파일을 파이선 객체화 하는 과정이 필요함\n",
    "\n",
    "파일 문법 : https://protobuf.dev/getting-started/pythontutorial/"
   ]
  },
  {
   "cell_type": "markdown",
   "metadata": {},
   "source": [
    "프로토콜 버퍼의 명렁어를 통해 파이썬 객체화를 진행"
   ]
  },
  {
   "cell_type": "code",
   "execution_count": 2,
   "metadata": {},
   "outputs": [],
   "source": [
    "import OwnProto_pb2  as op"
   ]
  },
  {
   "cell_type": "code",
   "execution_count": 3,
   "metadata": {},
   "outputs": [],
   "source": [
    "test_class=op.Person(name=\"Lee\",id=1,email=[\"lee@lee.com\"])"
   ]
  },
  {
   "cell_type": "code",
   "execution_count": 4,
   "metadata": {},
   "outputs": [
    {
     "data": {
      "text/plain": [
       "name: \"Lee\"\n",
       "id: 1\n",
       "email: \"lee@lee.com\""
      ]
     },
     "execution_count": 4,
     "metadata": {},
     "output_type": "execute_result"
    }
   ],
   "source": [
    "test_class"
   ]
  },
  {
   "cell_type": "markdown",
   "metadata": {},
   "source": [
    "# Protocalbuf for TFRecord\n",
    "\n",
    "우리는 우선 TFRecord를 위한 텐서플로우 내에 잘 정의되어있는 protocalbuf에 대해 알아볼 것이다"
   ]
  },
  {
   "cell_type": "markdown",
   "metadata": {},
   "source": [
    "이는 \n",
    "- 1. tf.py_funtino 의 기능을 사용하면 연산속도의 저하 \n",
    "- 2. tf.io.decode_proto() 메소드를 이용하면 사용자의 protocal 정의를 사용할 수 있으나 전용 연산을 제공하는 사전 프로토콜을 사용하는게 유리\n",
    "\n",
    "두 가지의 이유가 있다"
   ]
  },
  {
   "cell_type": "code",
   "execution_count": 6,
   "metadata": {},
   "outputs": [],
   "source": [
    "import tensorflow as tf"
   ]
  },
  {
   "cell_type": "code",
   "execution_count": null,
   "metadata": {},
   "outputs": [],
   "source": []
  }
 ],
 "metadata": {
  "kernelspec": {
   "display_name": "Python 3",
   "language": "python",
   "name": "python3"
  },
  "language_info": {
   "codemirror_mode": {
    "name": "ipython",
    "version": 3
   },
   "file_extension": ".py",
   "mimetype": "text/x-python",
   "name": "python",
   "nbconvert_exporter": "python",
   "pygments_lexer": "ipython3",
   "version": "3.11.8"
  }
 },
 "nbformat": 4,
 "nbformat_minor": 2
}
